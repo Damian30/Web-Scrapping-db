{
 "cells": [
  {
   "cell_type": "markdown",
   "metadata": {},
   "source": [
    "### Nasa Mars News"
   ]
  },
  {
   "cell_type": "code",
   "execution_count": 26,
   "metadata": {
    "collapsed": true
   },
   "outputs": [],
   "source": [
    "from urllib.request import urlopen as uReq\n",
    "from bs4 import BeautifulSoup as soup\n",
    "import pandas as pd\n",
    "from splinter import Browser\n",
    "from bs4 import BeautifulSoup\n",
    "import time"
   ]
  },
  {
   "cell_type": "code",
   "execution_count": 2,
   "metadata": {
    "collapsed": true
   },
   "outputs": [],
   "source": [
    "url =\"https://mars.nasa.gov/news/8312/nearly-a-decade-after-mars-phoenix-landed-another-look/\"\n",
    "tweet_url =\"https://twitter.com/MarsWxReport?lang=en\""
   ]
  },
  {
   "cell_type": "code",
   "execution_count": 3,
   "metadata": {
    "collapsed": true
   },
   "outputs": [],
   "source": [
    "# Opening up connection, grabbing the page \n",
    "uClient = uReq(url)\n",
    "page_html = uClient.read()\n",
    "uClient.close()"
   ]
  },
  {
   "cell_type": "code",
   "execution_count": 4,
   "metadata": {
    "collapsed": true
   },
   "outputs": [],
   "source": [
    "#html parsing\n",
    "page_soup = soup(page_html, \"html.parser\")"
   ]
  },
  {
   "cell_type": "code",
   "execution_count": 5,
   "metadata": {
    "collapsed": true
   },
   "outputs": [],
   "source": [
    "# Grabs data\n",
    "containers = page_soup.findAll(\"div\", {\"class\": \"grid_layout\"})\n",
    "#containers"
   ]
  },
  {
   "cell_type": "code",
   "execution_count": 6,
   "metadata": {},
   "outputs": [
    {
     "data": {
      "text/plain": [
       "'Nearly a Decade After Mars Phoenix Landed, Another Look'"
      ]
     },
     "execution_count": 6,
     "metadata": {},
     "output_type": "execute_result"
    }
   ],
   "source": [
    "news_title = containers[0].findAll(\"h1\", {\"class\":\"article_title\"})\n",
    "news_title[0].text.strip()"
   ]
  },
  {
   "cell_type": "code",
   "execution_count": 7,
   "metadata": {},
   "outputs": [
    {
     "data": {
      "text/plain": [
       "\"A recent view from Mars orbit of the site where NASA's Phoenix Mars mission landed on far-northern Mars nearly a decade ago shows that dust has covered some marks of the landing.The Phoenix lander itself, plus its back shell and parachute, are still visible in the image taken Dec. 21, 2017, by the High Resolution Imaging Science Experiment (HiRISE) camera on NASA's Mars Reconnaissance Orbiter. But an animated-blink comparison with an image from about two months after the May 25, 2008, landing shows that patches of ground that had been darkened by removal of dust during landing events have become coated with dust again.In August 2008, Phoenix completed its three-month mission studying Martian ice, soil and atmosphere. The lander worked for two additional months before reduced sunlight caused energy to become insufficient to keep the lander functioning. The solar-powered robot was not designed to survive through the dark and cold conditions of a Martian arctic winter.For additional information about the Phoenix mission, visit:https://www.nasa.gov/mission_pages/phoenix/main/index.htmlFor additional information about the Mars Reconnaissance Orbiter mission, visit:https://mars.nasa.gov/mro/ Andrew Good / Guy WebsterJet Propulsion Laboratory, Pasadena, Calif.818-393-2433 / 818-354-6278andrew.c.good@jpl.nasa.gov / guy.webster@jpl.nasa.gov\""
      ]
     },
     "execution_count": 7,
     "metadata": {},
     "output_type": "execute_result"
    }
   ],
   "source": [
    "news_p = containers[0].findAll(\"div\", {\"class\":\"wysiwyg_content\"})\n",
    "news_p[0].text.strip().replace('\\r','').replace('\\n','')"
   ]
  },
  {
   "cell_type": "markdown",
   "metadata": {},
   "source": [
    "### JPL Mars Space Images"
   ]
  },
  {
   "cell_type": "code",
   "execution_count": 48,
   "metadata": {
    "collapsed": true
   },
   "outputs": [],
   "source": [
    "executable_path = {'executable_path': 'chromedriver.exe'}\n",
    "browser = Browser('chrome', **executable_path, headless=False)\n",
    "url = 'https://www.jpl.nasa.gov/spaceimages/?search=&category=Mars'\n",
    "browser.visit(url)"
   ]
  },
  {
   "cell_type": "code",
   "execution_count": null,
   "metadata": {},
   "outputs": [],
   "source": [
    "# Navigate the site and find the image url for the current Featured Mars Image\n",
    "time.sleep(2)\n",
    "html = browser.html\n",
    "soup = BeautifulSoup(html, 'html.parser')\n",
    "image_url = soup.find(id= \"fancybox-lock\")\n",
    "featured_image_url = image_url.find('img')['src']\n",
    "featured_image_url\n"
   ]
  },
  {
   "cell_type": "markdown",
   "metadata": {},
   "source": [
    "### Mars Weather"
   ]
  },
  {
   "cell_type": "code",
   "execution_count": 8,
   "metadata": {
    "collapsed": true
   },
   "outputs": [],
   "source": [
    "# Opening up connection, grabbing the page \n",
    "uClient = uReq(tweet_url)\n",
    "page_html = uClient.read()\n",
    "uClient.close()"
   ]
  },
  {
   "cell_type": "code",
   "execution_count": 9,
   "metadata": {
    "collapsed": true
   },
   "outputs": [],
   "source": [
    "#html parsing\n",
    "page_soup = soup(page_html, \"html.parser\")"
   ]
  },
  {
   "cell_type": "code",
   "execution_count": 10,
   "metadata": {
    "scrolled": true
   },
   "outputs": [
    {
     "data": {
      "text/plain": [
       "'Sol 1976 (Feb 26, 2018), Sunny, high -10C/14F, low -77C/-106F, pressure at 7.28 hPa, daylight 05:37-17:25'"
      ]
     },
     "execution_count": 10,
     "metadata": {},
     "output_type": "execute_result"
    }
   ],
   "source": [
    "# Grabs data\n",
    "mars_weather = page_soup.findAll(\"p\", {\"class\": \"TweetTextSize TweetTextSize--normal js-tweet-text tweet-text\"})\n",
    "mars_weather[0].text"
   ]
  },
  {
   "cell_type": "markdown",
   "metadata": {},
   "source": [
    "### Mars Facts"
   ]
  },
  {
   "cell_type": "code",
   "execution_count": 11,
   "metadata": {},
   "outputs": [
    {
     "data": {
      "text/html": [
       "<div>\n",
       "<style>\n",
       "    .dataframe thead tr:only-child th {\n",
       "        text-align: right;\n",
       "    }\n",
       "\n",
       "    .dataframe thead th {\n",
       "        text-align: left;\n",
       "    }\n",
       "\n",
       "    .dataframe tbody tr th {\n",
       "        vertical-align: top;\n",
       "    }\n",
       "</style>\n",
       "<table border=\"1\" class=\"dataframe\">\n",
       "  <thead>\n",
       "    <tr style=\"text-align: right;\">\n",
       "      <th></th>\n",
       "      <th>0</th>\n",
       "      <th>1</th>\n",
       "    </tr>\n",
       "  </thead>\n",
       "  <tbody>\n",
       "    <tr>\n",
       "      <th>0</th>\n",
       "      <td>Equatorial Diameter:</td>\n",
       "      <td>6,792 km</td>\n",
       "    </tr>\n",
       "    <tr>\n",
       "      <th>1</th>\n",
       "      <td>Polar Diameter:</td>\n",
       "      <td>6,752 km</td>\n",
       "    </tr>\n",
       "    <tr>\n",
       "      <th>2</th>\n",
       "      <td>Mass:</td>\n",
       "      <td>6.42 x 10^23 kg (10.7% Earth)</td>\n",
       "    </tr>\n",
       "    <tr>\n",
       "      <th>3</th>\n",
       "      <td>Moons:</td>\n",
       "      <td>2 (Phobos &amp; Deimos)</td>\n",
       "    </tr>\n",
       "    <tr>\n",
       "      <th>4</th>\n",
       "      <td>Orbit Distance:</td>\n",
       "      <td>227,943,824 km (1.52 AU)</td>\n",
       "    </tr>\n",
       "    <tr>\n",
       "      <th>5</th>\n",
       "      <td>Orbit Period:</td>\n",
       "      <td>687 days (1.9 years)</td>\n",
       "    </tr>\n",
       "    <tr>\n",
       "      <th>6</th>\n",
       "      <td>Surface Temperature:</td>\n",
       "      <td>-153 to 20 °C</td>\n",
       "    </tr>\n",
       "    <tr>\n",
       "      <th>7</th>\n",
       "      <td>First Record:</td>\n",
       "      <td>2nd millennium BC</td>\n",
       "    </tr>\n",
       "    <tr>\n",
       "      <th>8</th>\n",
       "      <td>Recorded By:</td>\n",
       "      <td>Egyptian astronomers</td>\n",
       "    </tr>\n",
       "  </tbody>\n",
       "</table>\n",
       "</div>"
      ],
      "text/plain": [
       "                      0                              1\n",
       "0  Equatorial Diameter:                       6,792 km\n",
       "1       Polar Diameter:                       6,752 km\n",
       "2                 Mass:  6.42 x 10^23 kg (10.7% Earth)\n",
       "3                Moons:            2 (Phobos & Deimos)\n",
       "4       Orbit Distance:       227,943,824 km (1.52 AU)\n",
       "5         Orbit Period:           687 days (1.9 years)\n",
       "6  Surface Temperature:                  -153 to 20 °C\n",
       "7         First Record:              2nd millennium BC\n",
       "8          Recorded By:           Egyptian astronomers"
      ]
     },
     "execution_count": 11,
     "metadata": {},
     "output_type": "execute_result"
    }
   ],
   "source": [
    "# Reading tabular data and creating dataframes.\n",
    "mars_url = \"http://space-facts.com/mars/\"\n",
    "tables = pd.read_html(mars_url)\n",
    "\n",
    "df = tables[0]\n",
    "df.columns = [0,1]\n",
    "df.head(10)"
   ]
  },
  {
   "cell_type": "code",
   "execution_count": 12,
   "metadata": {},
   "outputs": [
    {
     "data": {
      "text/html": [
       "<div>\n",
       "<style>\n",
       "    .dataframe thead tr:only-child th {\n",
       "        text-align: right;\n",
       "    }\n",
       "\n",
       "    .dataframe thead th {\n",
       "        text-align: left;\n",
       "    }\n",
       "\n",
       "    .dataframe tbody tr th {\n",
       "        vertical-align: top;\n",
       "    }\n",
       "</style>\n",
       "<table border=\"1\" class=\"dataframe\">\n",
       "  <thead>\n",
       "    <tr style=\"text-align: right;\">\n",
       "      <th></th>\n",
       "      <th>Label</th>\n",
       "    </tr>\n",
       "    <tr>\n",
       "      <th>Data</th>\n",
       "      <th></th>\n",
       "    </tr>\n",
       "  </thead>\n",
       "  <tbody>\n",
       "    <tr>\n",
       "      <th>6,792 km</th>\n",
       "      <td>Equatorial Diameter:</td>\n",
       "    </tr>\n",
       "    <tr>\n",
       "      <th>6,752 km</th>\n",
       "      <td>Polar Diameter:</td>\n",
       "    </tr>\n",
       "    <tr>\n",
       "      <th>6.42 x 10^23 kg (10.7% Earth)</th>\n",
       "      <td>Mass:</td>\n",
       "    </tr>\n",
       "    <tr>\n",
       "      <th>2 (Phobos &amp; Deimos)</th>\n",
       "      <td>Moons:</td>\n",
       "    </tr>\n",
       "    <tr>\n",
       "      <th>227,943,824 km (1.52 AU)</th>\n",
       "      <td>Orbit Distance:</td>\n",
       "    </tr>\n",
       "    <tr>\n",
       "      <th>687 days (1.9 years)</th>\n",
       "      <td>Orbit Period:</td>\n",
       "    </tr>\n",
       "    <tr>\n",
       "      <th>-153 to 20 °C</th>\n",
       "      <td>Surface Temperature:</td>\n",
       "    </tr>\n",
       "    <tr>\n",
       "      <th>2nd millennium BC</th>\n",
       "      <td>First Record:</td>\n",
       "    </tr>\n",
       "    <tr>\n",
       "      <th>Egyptian astronomers</th>\n",
       "      <td>Recorded By:</td>\n",
       "    </tr>\n",
       "  </tbody>\n",
       "</table>\n",
       "</div>"
      ],
      "text/plain": [
       "                                              Label\n",
       "Data                                               \n",
       "6,792 km                       Equatorial Diameter:\n",
       "6,752 km                            Polar Diameter:\n",
       "6.42 x 10^23 kg (10.7% Earth)                 Mass:\n",
       "2 (Phobos & Deimos)                          Moons:\n",
       "227,943,824 km (1.52 AU)            Orbit Distance:\n",
       "687 days (1.9 years)                  Orbit Period:\n",
       "-153 to 20 °C                  Surface Temperature:\n",
       "2nd millennium BC                     First Record:\n",
       "Egyptian astronomers                   Recorded By:"
      ]
     },
     "execution_count": 12,
     "metadata": {},
     "output_type": "execute_result"
    }
   ],
   "source": [
    "df= df.rename(columns={0:'Label',1:'Data'})\n",
    "\n",
    "df.set_index('Data', inplace=True)\n",
    "\n",
    "df.head(10)"
   ]
  },
  {
   "cell_type": "code",
   "execution_count": 13,
   "metadata": {},
   "outputs": [
    {
     "data": {
      "text/plain": [
       "'<table border=\"1\" class=\"dataframe\">\\n  <thead>\\n    <tr style=\"text-align: right;\">\\n      <th></th>\\n      <th>Label</th>\\n    </tr>\\n    <tr>\\n      <th>Data</th>\\n      <th></th>\\n    </tr>\\n  </thead>\\n  <tbody>\\n    <tr>\\n      <th>6,792 km</th>\\n      <td>Equatorial Diameter:</td>\\n    </tr>\\n    <tr>\\n      <th>6,752 km</th>\\n      <td>Polar Diameter:</td>\\n    </tr>\\n    <tr>\\n      <th>6.42 x 10^23 kg (10.7% Earth)</th>\\n      <td>Mass:</td>\\n    </tr>\\n    <tr>\\n      <th>2 (Phobos &amp; Deimos)</th>\\n      <td>Moons:</td>\\n    </tr>\\n    <tr>\\n      <th>227,943,824 km (1.52 AU)</th>\\n      <td>Orbit Distance:</td>\\n    </tr>\\n    <tr>\\n      <th>687 days (1.9 years)</th>\\n      <td>Orbit Period:</td>\\n    </tr>\\n    <tr>\\n      <th>-153 to 20 °C</th>\\n      <td>Surface Temperature:</td>\\n    </tr>\\n    <tr>\\n      <th>2nd millennium BC</th>\\n      <td>First Record:</td>\\n    </tr>\\n    <tr>\\n      <th>Egyptian astronomers</th>\\n      <td>Recorded By:</td>\\n    </tr>\\n  </tbody>\\n</table>'"
      ]
     },
     "execution_count": 13,
     "metadata": {},
     "output_type": "execute_result"
    }
   ],
   "source": [
    "# Converting table to html table\n",
    "html_table = df.to_html()\n",
    "html_table"
   ]
  },
  {
   "cell_type": "code",
   "execution_count": 14,
   "metadata": {},
   "outputs": [
    {
     "data": {
      "text/plain": [
       "'<table border=\"1\" class=\"dataframe\">\\n  <thead>\\n    <tr style=\"text-align: right;\">\\n      <th></th>\\n      <th>Label</th>\\n    </tr>\\n    <tr>\\n      <th>Data</th>\\n      <th></th>\\n    </tr>\\n  </thead>\\n  <tbody>\\n    <tr>\\n      <th>6,792 km</th>\\n      <td>Equatorial Diameter:</td>\\n    </tr>\\n    <tr>\\n      <th>6,752 km</th>\\n      <td>Polar Diameter:</td>\\n    </tr>\\n    <tr>\\n      <th>6.42 x 10^23 kg (10.7% Earth)</th>\\n      <td>Mass:</td>\\n    </tr>\\n    <tr>\\n      <th>2 (Phobos &amp; Deimos)</th>\\n      <td>Moons:</td>\\n    </tr>\\n    <tr>\\n      <th>227,943,824 km (1.52 AU)</th>\\n      <td>Orbit Distance:</td>\\n    </tr>\\n    <tr>\\n      <th>687 days (1.9 years)</th>\\n      <td>Orbit Period:</td>\\n    </tr>\\n    <tr>\\n      <th>-153 to 20 °C</th>\\n      <td>Surface Temperature:</td>\\n    </tr>\\n    <tr>\\n      <th>2nd millennium BC</th>\\n      <td>First Record:</td>\\n    </tr>\\n    <tr>\\n      <th>Egyptian astronomers</th>\\n      <td>Recorded By:</td>\\n    </tr>\\n  </tbody>\\n</table>'"
      ]
     },
     "execution_count": 14,
     "metadata": {},
     "output_type": "execute_result"
    }
   ],
   "source": [
    "# Cleaning table\n",
    "html_table.replace('\\n','')\n",
    "html_table"
   ]
  },
  {
   "cell_type": "code",
   "execution_count": 15,
   "metadata": {
    "collapsed": true
   },
   "outputs": [],
   "source": [
    "# Saving html file\n",
    "df.to_html('mars_facts.html')"
   ]
  },
  {
   "cell_type": "code",
   "execution_count": 16,
   "metadata": {
    "collapsed": true
   },
   "outputs": [],
   "source": [
    "# Scraping more Mars facts\n",
    "\n",
    "# Opening up connection, grabbing the page \n",
    "uClient = uReq(mars_url)\n",
    "page_html = uClient.read()\n",
    "uClient.close()\n",
    "\n",
    "#html parsing\n",
    "page_soup = soup(page_html, \"html.parser\")"
   ]
  },
  {
   "cell_type": "code",
   "execution_count": 17,
   "metadata": {},
   "outputs": [
    {
     "data": {
      "text/plain": [
       "'Facts about MarsMars and Earth have approximately the same landmass.Even though Mars has only 15% of the Earth’s volume and just over 10% of the Earth’s mass, around two thirds of the Earth’s surface is covered in water. Martian surface gravity is only 37% of the Earth’s (meaning you could leap nearly three times higher on Mars).Mars is home to the tallest mountain in the solar system.Olympus Mons, a shield volcano, is 21km high and 600km in diameter. Despite having formed over billions of years, evidence from volcanic lava flows is so recent many scientists believe it could still be active.Only 18 missions to Mars have been successful.As of September 2014 there have been 40 missions to Mars, including orbiters, landers and rovers but not counting flybys. The most recent arrivals include the Mars Curiosity mission in 2012, the MAVEN mission, which arrived on September 22, 2014, followed by the Indian Space Research Organization’s MOM Mangalyaan orbiter, which arrived on September 24, 2014. The next missions to arrive will be the European Space Agency’s ExoMars mission, comprising an orbiter, lander, and a rover, followed by NASA’s InSight robotic lander mission, slated for launch in March 2016 and a planned arrival in September, 2016.Mars has the largest dust storms in the solar system.They can last for months and cover the entire planet. The seasons are extreme because its elliptical (oval-shaped) orbital path around the Sun is more elongated than most other planets in the solar system.On Mars the Sun appears about half the size as it does on Earth.At the closest point to the Sun, the Martian southern hemisphere leans towards the Sun, causing a short, intensely hot summer, while the northern hemisphere endures a brief, cold winter: at its farthest point from the Sun, the Martian northern hemisphere leans towards the Sun, causing a long, mild summer, while the southern hemisphere endures a lengthy, cold winter.Pieces of Mars have fallen to Earth.Scientists have found tiny traces of Martian atmosphere within meteorites violently ejected from Mars, then orbiting the solar system amongst galactic debris for millions of years, before crash landing on Earth. This allowed scientists to begin studying Mars prior to launching space missions.Mars takes its name from the Roman god of war.The ancient Greeks called the planet Ares, after their god of war; the Romans then did likewise, associating the planet’s blood-red colour with Mars, their own god of war. Interestingly, other ancient cultures also focused on colour – to China’s astronomers it was ‘the fire star’, whilst Egyptian priests called on ‘Her Desher’, or ‘the red one’. The red colour Mars is known for is due to the rock and dust covering its surface being rich in iron.There are signs of liquid water on Mars.For years Mars has been known to have water in the form of ice. The first signs of trickling water are dark stripes or stains on crater wall and cliffs seen in satellite images. Due to Mars’ atmosphere this water would have to be salty to prevent it from freezing or vaporising.One day Mars will have a ring.In the next 20-40 million years Mars’ largest moon Phobos will be torn apart by gravitational forces leading to the creation of a ring that could last up to 100 million years.'"
      ]
     },
     "execution_count": 17,
     "metadata": {},
     "output_type": "execute_result"
    }
   ],
   "source": [
    "# Grabs facts data\n",
    "mars_facts = page_soup.findAll(\"div\", {\"id\":\"facts\"})\n",
    "mars_facts[0].text.strip().replace('\\n','')"
   ]
  },
  {
   "cell_type": "markdown",
   "metadata": {},
   "source": [
    "### Mars Hemisperes"
   ]
  },
  {
   "cell_type": "code",
   "execution_count": null,
   "metadata": {},
   "outputs": [],
   "source": [
    "hemisphere_image_urls = [\n",
    "    {\"title\": \"Valles Marineris Hemisphere\", \n",
    "     \"img_url\": \"https://astropedia.astrogeology.usgs.gov/download/Mars/Viking/valles_marineris_enhanced.tif/full.jpg\"},\n",
    "    {\"title\": \"Cerberus Hemisphere\", \n",
    "     \"img_url\": \"https://astrogeology.usgs.gov/search/map/Mars/Viking/cerberus_enhanced\"},\n",
    "    {\"title\": \"Schiaparelli Hemisphere\",\n",
    "     \"img_url\": \"https://astropedia.astrogeology.usgs.gov/download/Mars/Viking/schiaparelli_enhanced.tif/full.jpg\"},\n",
    "    {\"title\": \"Syrtis Major Hemisphere\",\n",
    "     \"img_url\": \"https://astropedia.astrogeology.usgs.gov/download/Mars/Viking/syrtis_major_enhanced.tif/full.jpg\"},\n",
    "]"
   ]
  },
  {
   "cell_type": "code",
   "execution_count": 40,
   "metadata": {},
   "outputs": [],
   "source": []
  },
  {
   "cell_type": "code",
   "execution_count": null,
   "metadata": {
    "collapsed": true
   },
   "outputs": [],
   "source": []
  }
 ],
 "metadata": {
  "kernelspec": {
   "display_name": "Python 3",
   "language": "python",
   "name": "python3"
  },
  "language_info": {
   "codemirror_mode": {
    "name": "ipython",
    "version": 3
   },
   "file_extension": ".py",
   "mimetype": "text/x-python",
   "name": "python",
   "nbconvert_exporter": "python",
   "pygments_lexer": "ipython3",
   "version": "3.6.2"
  }
 },
 "nbformat": 4,
 "nbformat_minor": 2
}
